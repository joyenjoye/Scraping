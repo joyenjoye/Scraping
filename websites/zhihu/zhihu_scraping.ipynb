{
 "cells": [
  {
   "cell_type": "code",
   "execution_count": 2,
   "metadata": {},
   "outputs": [],
   "source": [
    "import requests\n",
    "import pandas as pd\n",
    "import json\n",
    "import time\n",
    "\n",
    "headers={\n",
    "    'user-agent': 'Mozilla/5.0 (Windows NT 10.0; Win64; x64) AppleWebKit/537.36 (KHTML, like Gecko) Chrome/75.0.3770.100 Safari/537.36'\n",
    "}\n",
    "\n",
    "user_data = []\n",
    "\n",
    "def get_user_data(page):\n",
    "    for i in range(page):\n",
    "        print('当前正在爬取第{}页'.format(i+1))\n",
    "        url ='https://www.zhihu.com/api/v4/members/joye-lee-29/followees?include=data%5B*%5D.answer_count\\\n",
    "        %2Carticles_count%2Cgender%2Cfollower_count%2Cis_followed%2Cis_following\\\n",
    "        %2Cbadge%5B%3F(type%3Dbest_answerer)%5D.topics&offset={}&limit=20'.format(i*20)\n",
    "        response = requests.get(url,headers = headers)\n",
    "        data=json.loads(response.text)\n",
    "        user_data.extend(data['data'])\n",
    "        time.sleep(1)\n"
   ]
  },
  {
   "cell_type": "code",
   "execution_count": 3,
   "metadata": {},
   "outputs": [
    {
     "name": "stdout",
     "output_type": "stream",
     "text": [
      "当前正在爬取第1页\n",
      "当前正在爬取第2页\n",
      "当前正在爬取第3页\n",
      "当前正在爬取第4页\n",
      "当前正在爬取第5页\n",
      "当前正在爬取第6页\n",
      "当前正在爬取第7页\n"
     ]
    }
   ],
   "source": [
    "get_user_data(7)\n",
    "df = pd.DataFrame.from_dict(user_data)\n",
    "df.to_csv('output/user_data.csv')"
   ]
  },
  {
   "cell_type": "code",
   "execution_count": 7,
   "metadata": {},
   "outputs": [],
   "source": [
    "url ='https://www.zhihu.com/api/v4/members/joye-lee-29/followees?include=data%5B*%5D.answer_count\\\n",
    "        %2Carticles_count%2Cgender%2Cfollower_count%2Cis_followed%2Cis_following\\\n",
    "        %2Cbadge%5B%3F(type%3Dbest_answerer)%5D.topics&offset={}&limit=20'.format(i*20)\n",
    "response = requests.get(url)\n",
    "print(response.text)"
   ]
  },
  {
   "cell_type": "code",
   "execution_count": 11,
   "metadata": {},
   "outputs": [
    {
     "name": "stdout",
     "output_type": "stream",
     "text": [
      "{\"paging\":{\"is_end\":false,\"is_start\":false,\"next\":\"https://www.zhihu.com/members/joye-lee-29/followees?include=data%5B%2A%5D.answer_count++++++++%2Carticles_count%2Cgender%2Cfollower_count%2Cis_followed%2Cis_following++++++++%2Cbadge%5B%3F%28type%3Dbest_answerer%29%5D.topics\\u0026limit=20\\u0026offset=40\",\"previous\":\"https://www.zhihu.com/members/joye-lee-29/followees?include=data%5B%2A%5D.answer_count++++++++%2Carticles_count%2Cgender%2Cfollower_count%2Cis_followed%2Cis_following++++++++%2Cbadge%5B%3F%28type%3Dbest_answerer%29%5D.topics\\u0026limit=20\\u0026offset=0\",\"totals\":122},\"data\":[{\"id\":\"a6752e2d12a66d242facec2a29e1d4a1\",\"url_token\":\"kai-man-er-wu-fu\",\"name\":\"凯曼尔\",\"use_default_avatar\":false,\"avatar_url\":\"https://pic2.zhimg.com/1146d2a9f39fb4542faeec7b80aecdcc_is.jpg\",\"avatar_url_template\":\"https://pic2.zhimg.com/1146d2a9f39fb4542faeec7b80aecdcc_{size}.jpg\",\"is_org\":false,\"type\":\"people\",\"url\":\"https://www.zhihu.com/people/kai-man-er-wu-fu\",\"user_type\":\"people\",\"headline\":\"伟大的404战士!非穆维吾尔族\",\"gender\":1,\"is_advertiser\":false,\"vip_info\":{\"is_vip\":false,\"rename_days\":\"60\"},\"badge\":[],\"is_following\":false,\"is_followed\":false,\"follower_count\":6115,\"answer_count\":430,\"articles_count\":1},{\"id\":\"9042365ff53a1e82c22141fe6c582521\",\"url_token\":\"poker-won\",\"name\":\"Poker Won\",\"use_default_avatar\":false,\"avatar_url\":\"https://pic2.zhimg.com/v2-f4e19eaaa2cc9c3054570866d9d2132d_is.jpg\",\"avatar_url_template\":\"https://pic2.zhimg.com/v2-f4e19eaaa2cc9c3054570866d9d2132d_{size}.jpg\",\"is_org\":false,\"type\":\"people\",\"url\":\"https://www.zhihu.com/people/poker-won\",\"user_type\":\"people\",\"headline\":\"博士中的女博士，扑克中的扑克王\",\"gender\":0,\"is_advertiser\":false,\"vip_info\":{\"is_vip\":false,\"rename_days\":\"60\"},\"badge\":[],\"is_following\":false,\"is_followed\":false,\"follower_count\":4014,\"answer_count\":126,\"articles_count\":0},{\"id\":\"58f950686d0b869dd849a5e415c1542d\",\"url_token\":\"lisa-2-22\",\"name\":\"大力\",\"use_default_avatar\":false,\"avatar_url\":\"https://pic1.zhimg.com/cb1684ebe3d4d8d8ccf8deba29a72a33_is.jpg\",\"avatar_url_template\":\"https://pic1.zhimg.com/cb1684ebe3d4d8d8ccf8deba29a72a33_{size}.jpg\",\"is_org\":false,\"type\":\"people\",\"url\":\"https://www.zhihu.com/people/lisa-2-22\",\"user_type\":\"people\",\"headline\":\"不知之知，无为而为\",\"gender\":0,\"is_advertiser\":false,\"vip_info\":{\"is_vip\":true,\"rename_days\":\"60\",\"vip_icon\":{\"url\":\"https://pic3.zhimg.com/v2-4812630bc27d642f7cafcd6cdeca3d7a_r.png\",\"night_mode_url\":\"https://pic3.zhimg.com/v2-c9686ff064ea3579730756ac6c289978_r.png\"}},\"badge\":[{\"type\":\"identity\",\"description\":\"四川大学 临床医学博士\"}],\"is_following\":false,\"is_followed\":false,\"follower_count\":57288,\"answer_count\":28,\"articles_count\":8},{\"id\":\"417ed8320c147d4a0e2e707a3c8d8d3d\",\"url_token\":\"divfor\",\"name\":\"divfor\",\"use_default_avatar\":false,\"avatar_url\":\"https://pic1.zhimg.com/v2-aa4761ab829821eb1b0311627f944df9_is.jpg\",\"avatar_url_template\":\"https://pic1.zhimg.com/v2-aa4761ab829821eb1b0311627f944df9_{size}.jpg\",\"is_org\":false,\"type\":\"people\",\"url\":\"https://www.zhihu.com/people/divfor\",\"user_type\":\"people\",\"headline\":\"深度学习\",\"gender\":-1,\"is_advertiser\":false,\"vip_info\":{\"is_vip\":false,\"rename_days\":\"60\"},\"badge\":[],\"is_following\":false,\"is_followed\":false,\"follower_count\":35,\"answer_count\":2,\"articles_count\":1},{\"id\":\"f783a3857b66e941b9a0a894942f350f\",\"url_token\":\"xiao-ming-50-63-23\",\"name\":\"小二\",\"use_default_avatar\":false,\"avatar_url\":\"https://pic4.zhimg.com/v2-52866129ad66ccd7734b32a0e9302bc3_is.jpg\",\"avatar_url_template\":\"https://pic4.zhimg.com/v2-52866129ad66ccd7734b32a0e9302bc3_{size}.jpg\",\"is_org\":false,\"type\":\"people\",\"url\":\"https://www.zhihu.com/people/xiao-ming-50-63-23\",\"user_type\":\"people\",\"headline\":\"汽车\",\"gender\":1,\"is_advertiser\":false,\"vip_info\":{\"is_vip\":false,\"rename_days\":\"60\"},\"badge\":[],\"is_following\":false,\"is_followed\":false,\"follower_count\":22,\"answer_count\":51,\"articles_count\":0},{\"id\":\"1cf49425436c8dd996ac5ba1f1ed46d9\",\"url_token\":\"xjiangxjxjxjx\",\"name\":\"陈村\",\"use_default_avatar\":false,\"avatar_url\":\"https://pic2.zhimg.com/81cb2fd77_is.jpg\",\"avatar_url_template\":\"https://pic2.zhimg.com/81cb2fd77_{size}.jpg\",\"is_org\":false,\"type\":\"people\",\"url\":\"https://www.zhihu.com/people/xjiangxjxjxjx\",\"user_type\":\"people\",\"headline\":\"Facebook/剑桥大学/NLP\",\"gender\":1,\"is_advertiser\":false,\"vip_info\":{\"is_vip\":false,\"rename_days\":\"60\"},\"badge\":[],\"is_following\":false,\"is_followed\":false,\"follower_count\":46422,\"answer_count\":412,\"articles_count\":12},{\"id\":\"6a3ed8cb60d9492caf32181de599aeea\",\"url_token\":\"HyunShen\",\"name\":\"HyunShen\",\"use_default_avatar\":false,\"avatar_url\":\"https://pic4.zhimg.com/v2-f8c2cc9b00e5fe90261cea98859e209c_is.jpg\",\"avatar_url_template\":\"https://pic4.zhimg.com/v2-f8c2cc9b00e5fe90261cea98859e209c_{size}.jpg\",\"is_org\":false,\"type\":\"people\",\"url\":\"https://www.zhihu.com/people/HyunShen\",\"user_type\":\"people\",\"headline\":\"\",\"gender\":0,\"is_advertiser\":false,\"vip_info\":{\"is_vip\":false,\"rename_days\":\"60\"},\"badge\":[],\"is_following\":false,\"is_followed\":false,\"follower_count\":55,\"answer_count\":3,\"articles_count\":0},{\"id\":\"67d349401119ac89d015b671a66aa4c5\",\"url_token\":\"wo-yao-zhua-wa-wa\",\"name\":\"我要抓娃娃\",\"use_default_avatar\":false,\"avatar_url\":\"https://pic4.zhimg.com/v2-f094081cc1a743f975805e30eeff0073_is.jpg\",\"avatar_url_template\":\"https://pic4.zhimg.com/v2-f094081cc1a743f975805e30eeff0073_{size}.jpg\",\"is_org\":true,\"type\":\"people\",\"url\":\"https://www.zhihu.com/people/wo-yao-zhua-wa-wa\",\"user_type\":\"organization\",\"headline\":\"\",\"gender\":-1,\"is_advertiser\":false,\"vip_info\":{\"is_vip\":false,\"rename_days\":\"60\"},\"badge\":[],\"is_following\":false,\"is_followed\":false,\"follower_count\":6,\"answer_count\":7,\"articles_count\":6},{\"id\":\"63e644a986da6ca7d38a7f65b06dec65\",\"url_token\":\"lao-huang-gua-7\",\"name\":\"老黄瓜7\",\"use_default_avatar\":false,\"avatar_url\":\"https://pic2.zhimg.com/b941fb8ffc62ca10650dc88efb467992_is.jpg\",\"avatar_url_template\":\"https://pic2.zhimg.com/b941fb8ffc62ca10650dc88efb467992_{size}.jpg\",\"is_org\":false,\"type\":\"people\",\"url\":\"https://www.zhihu.com/people/lao-huang-gua-7\",\"user_type\":\"people\",\"headline\":\"寻一女孩结婚啊啊啊\",\"gender\":1,\"is_advertiser\":false,\"vip_info\":{\"is_vip\":false,\"rename_days\":\"60\"},\"badge\":[],\"is_following\":false,\"is_followed\":false,\"follower_count\":97,\"answer_count\":171,\"articles_count\":0},{\"id\":\"f3576d76741ae2021128a211d03932a1\",\"url_token\":\"heng-bian\",\"name\":\"恒变\",\"use_default_avatar\":false,\"avatar_url\":\"https://pic1.zhimg.com/v2-cc222aff3cb8344aaaf527ece6e5dd4f_is.jpg\",\"avatar_url_template\":\"https://pic1.zhimg.com/v2-cc222aff3cb8344aaaf527ece6e5dd4f_{size}.jpg\",\"is_org\":false,\"type\":\"people\",\"url\":\"https://www.zhihu.com/people/heng-bian\",\"user_type\":\"people\",\"headline\":\"人生不向花前醉，花笑人生也是呆。\",\"gender\":0,\"is_advertiser\":false,\"vip_info\":{\"is_vip\":false,\"rename_days\":\"60\"},\"badge\":[],\"is_following\":false,\"is_followed\":false,\"follower_count\":90173,\"answer_count\":133,\"articles_count\":11},{\"id\":\"060f23f0bba6450af7bfb82f390624bd\",\"url_token\":\"niu-ji-ye\",\"name\":\"阿牛先生\",\"use_default_avatar\":false,\"avatar_url\":\"https://pic3.zhimg.com/9a2b2305a_is.jpg\",\"avatar_url_template\":\"https://pic3.zhimg.com/9a2b2305a_{size}.jpg\",\"is_org\":false,\"type\":\"people\",\"url\":\"https://www.zhihu.com/people/niu-ji-ye\",\"user_type\":\"people\",\"headline\":\"石家庄 装修设计 微信aniu3722\",\"gender\":1,\"is_advertiser\":false,\"vip_info\":{\"is_vip\":false,\"rename_days\":\"60\"},\"badge\":[],\"is_following\":false,\"is_followed\":false,\"follower_count\":74777,\"answer_count\":1009,\"articles_count\":9},{\"id\":\"5fefa92eb9dde1515c634581ca21082b\",\"url_token\":\"coffee-wu\",\"name\":\"Coffee Wu\",\"use_default_avatar\":false,\"avatar_url\":\"https://pic4.zhimg.com/v2-7fa4cfabfb62990dfbcdcc5433d8058c_is.jpg\",\"avatar_url_template\":\"https://pic4.zhimg.com/v2-7fa4cfabfb62990dfbcdcc5433d8058c_{size}.jpg\",\"is_org\":false,\"type\":\"people\",\"url\":\"https://www.zhihu.com/people/coffee-wu\",\"user_type\":\"people\",\"headline\":\"22岁的魔都菇凉～坐标欧洲，传播学在读。\",\"gender\":0,\"is_advertiser\":false,\"vip_info\":{\"is_vip\":false,\"rename_days\":\"60\"},\"badge\":[],\"is_following\":false,\"is_followed\":false,\"follower_count\":39790,\"answer_count\":47,\"articles_count\":8},{\"id\":\"0e4ea42be30002a04757876cb51670d3\",\"url_token\":\"mirukuzhang\",\"name\":\"Miruku Zhang\",\"use_default_avatar\":false,\"avatar_url\":\"https://pic4.zhimg.com/v2-618f1da8f366bb6897f89ddcc05a5976_is.jpg\",\"avatar_url_template\":\"https://pic4.zhimg.com/v2-618f1da8f366bb6897f89ddcc05a5976_{size}.jpg\",\"is_org\":false,\"type\":\"people\",\"url\":\"https://www.zhihu.com/people/mirukuzhang\",\"user_type\":\"people\",\"headline\":\"纽约的漁夫 | PhD | Quant Club | ML \",\"gender\":1,\"is_advertiser\":false,\"vip_info\":{\"is_vip\":true,\"rename_days\":\"60\",\"vip_icon\":{\"url\":\"https://pic3.zhimg.com/v2-4812630bc27d642f7cafcd6cdeca3d7a_r.png\",\"night_mode_url\":\"https://pic3.zhimg.com/v2-c9686ff064ea3579730756ac6c289978_r.png\"}},\"badge\":[{\"type\":\"identity\",\"description\":\"康奈尔大学 电子与计算机博士在读\"}],\"is_following\":false,\"is_followed\":false,\"follower_count\":8104,\"answer_count\":62,\"articles_count\":8},{\"id\":\"3094bcc818d0aafe05f7f9b63ab58539\",\"url_token\":\"dong-hao-tian\",\"name\":\"董昊天\",\"use_default_avatar\":false,\"avatar_url\":\"https://pic2.zhimg.com/c1279d8f91a3ccb5352d34b5bec82ac3_is.jpg\",\"avatar_url_template\":\"https://pic2.zhimg.com/c1279d8f91a3ccb5352d34b5bec82ac3_{size}.jpg\",\"is_org\":false,\"type\":\"people\",\"url\":\"https://www.zhihu.com/people/dong-hao-tian\",\"user_type\":\"people\",\"headline\":\"\",\"gender\":1,\"is_advertiser\":false,\"vip_info\":{\"is_vip\":false,\"rename_days\":\"60\"},\"badge\":[],\"is_following\":false,\"is_followed\":false,\"follower_count\":2490,\"answer_count\":35,\"articles_count\":4},{\"id\":\"289dea5c2961be911b10a9a8ce5a023e\",\"url_token\":\"ding-dao-shi\",\"name\":\"丁道师\",\"use_default_avatar\":false,\"avatar_url\":\"https://pic1.zhimg.com/76a2e344d_is.jpg\",\"avatar_url_template\":\"https://pic1.zhimg.com/76a2e344d_{size}.jpg\",\"is_org\":false,\"type\":\"people\",\"url\":\"https://www.zhihu.com/people/ding-dao-shi\",\"user_type\":\"people\",\"headline\":\"速途速途执行总编兼速途研究院院长\",\"gender\":1,\"is_advertiser\":false,\"vip_info\":{\"is_vip\":false,\"rename_days\":\"60\"},\"badge\":[],\"is_following\":false,\"is_followed\":false,\"follower_count\":678,\"answer_count\":3,\"articles_count\":842},{\"id\":\"c747c2e62d251c6efa8067f701a5c677\",\"url_token\":\"kafusiji\",\"name\":\"胡海\",\"use_default_avatar\":false,\"avatar_url\":\"https://pic3.zhimg.com/v2-776c26f0243f9a549cac5565ff770e20_is.jpg\",\"avatar_url_template\":\"https://pic3.zhimg.com/v2-776c26f0243f9a549cac5565ff770e20_{size}.jpg\",\"is_org\":false,\"type\":\"people\",\"url\":\"https://www.zhihu.com/people/kafusiji\",\"user_type\":\"people\",\"headline\":\"报表/BI工程师\",\"gender\":-1,\"is_advertiser\":false,\"vip_info\":{\"is_vip\":false,\"rename_days\":\"60\"},\"badge\":[],\"is_following\":false,\"is_followed\":false,\"follower_count\":555,\"answer_count\":84,\"articles_count\":2},{\"id\":\"610b48102080b47101e212b95fa6d5f0\",\"url_token\":\"sawyer-yan\",\"name\":\"Sawyer Yan\",\"use_default_avatar\":false,\"avatar_url\":\"https://pic1.zhimg.com/7e5d25fea0c7aa8348643b6ab8a6db20_is.jpg\",\"avatar_url_template\":\"https://pic1.zhimg.com/7e5d25fea0c7aa8348643b6ab8a6db20_{size}.jpg\",\"is_org\":false,\"type\":\"people\",\"url\":\"https://www.zhihu.com/people/sawyer-yan\",\"user_type\":\"people\",\"headline\":\"我答你赞岂不美哉  狗狗知识\\u0026amp;奶狗信息尽在微信公众号:TaoPuppy\",\"gender\":1,\"is_advertiser\":false,\"vip_info\":{\"is_vip\":true,\"rename_days\":\"60\",\"vip_icon\":{\"url\":\"https://pic3.zhimg.com/v2-4812630bc27d642f7cafcd6cdeca3d7a_r.png\",\"night_mode_url\":\"https://pic3.zhimg.com/v2-c9686ff064ea3579730756ac6c289978_r.png\"}},\"badge\":[],\"is_following\":false,\"is_followed\":false,\"follower_count\":231,\"answer_count\":186,\"articles_count\":0},{\"id\":\"be7fb76847ebd0f97b158cb1034b11fe\",\"url_token\":\"lwtnek\",\"name\":\"老顽童\",\"use_default_avatar\":false,\"avatar_url\":\"https://pic1.zhimg.com/37964d713fbb55b70346b46dbdb2ce42_is.jpg\",\"avatar_url_template\":\"https://pic1.zhimg.com/37964d713fbb55b70346b46dbdb2ce42_{size}.jpg\",\"is_org\":false,\"type\":\"people\",\"url\":\"https://www.zhihu.com/people/lwtnek\",\"user_type\":\"people\",\"headline\":\"小可不才，教点瑜伽。文字教程在专栏，视频在抖音。地址看主页\",\"gender\":1,\"is_advertiser\":false,\"vip_info\":{\"is_vip\":false,\"rename_days\":\"60\"},\"badge\":[],\"is_following\":false,\"is_followed\":false,\"follower_count\":61188,\"answer_count\":1122,\"articles_count\":35},{\"id\":\"e1eacf65148d82917152cf1493e7fa26\",\"url_token\":\"he-wan-wan-64-90\",\"name\":\"何弯弯\",\"use_default_avatar\":false,\"avatar_url\":\"https://pic4.zhimg.com/ede95587a6b33d991923d15821f2e6ea_is.jpg\",\"avatar_url_template\":\"https://pic4.zhimg.com/ede95587a6b33d991923d15821f2e6ea_{size}.jpg\",\"is_org\":false,\"type\":\"people\",\"url\":\"https://www.zhihu.com/people/he-wan-wan-64-90\",\"user_type\":\"people\",\"headline\":\"瑜伽爱好者\",\"gender\":0,\"is_advertiser\":false,\"vip_info\":{\"is_vip\":false,\"rename_days\":\"60\"},\"badge\":[],\"is_following\":false,\"is_followed\":false,\"follower_count\":4740,\"answer_count\":29,\"articles_count\":364},{\"id\":\"41e44df324bc021bcb88b160e5692066\",\"url_token\":\"jiahao.m\",\"name\":\"Jiahao\",\"use_default_avatar\":false,\"avatar_url\":\"https://pic4.zhimg.com/v2-3273ea4362040389cf2cf1948428436b_is.jpg\",\"avatar_url_template\":\"https://pic4.zhimg.com/v2-3273ea4362040389cf2cf1948428436b_{size}.jpg\",\"is_org\":false,\"type\":\"people\",\"url\":\"https://www.zhihu.com/people/jiahao.m\",\"user_type\":\"people\",\"headline\":\"\",\"gender\":1,\"is_advertiser\":false,\"vip_info\":{\"is_vip\":false,\"rename_days\":\"60\"},\"badge\":[],\"is_following\":false,\"is_followed\":false,\"follower_count\":373,\"answer_count\":30,\"articles_count\":0}]}\n",
      "\n"
     ]
    }
   ],
   "source": [
    "headers={\n",
    "    'user-agent': 'Mozilla/5.0 (Windows NT 10.0; Win64; x64) AppleWebKit/537.36 (KHTML, like Gecko) Chrome/75.0.3770.100 Safari/537.36'\n",
    "}\n",
    "url ='https://www.zhihu.com/api/v4/members/joye-lee-29/followees?include=data%5B*%5D.answer_count\\\n",
    "        %2Carticles_count%2Cgender%2Cfollower_count%2Cis_followed%2Cis_following\\\n",
    "        %2Cbadge%5B%3F(type%3Dbest_answerer)%5D.topics&offset={}&limit=20'.format(i*20)\n",
    "response = requests.get(url,headers = headers)\n",
    "print(response.text)"
   ]
  },
  {
   "cell_type": "code",
   "execution_count": null,
   "metadata": {},
   "outputs": [],
   "source": []
  }
 ],
 "metadata": {
  "kernelspec": {
   "display_name": "Python 3",
   "language": "python",
   "name": "python3"
  },
  "language_info": {
   "codemirror_mode": {
    "name": "ipython",
    "version": 3
   },
   "file_extension": ".py",
   "mimetype": "text/x-python",
   "name": "python",
   "nbconvert_exporter": "python",
   "pygments_lexer": "ipython3",
   "version": "3.7.1"
  }
 },
 "nbformat": 4,
 "nbformat_minor": 2
}
